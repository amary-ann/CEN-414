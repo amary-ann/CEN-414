{
 "cells": [
  {
   "cell_type": "markdown",
   "id": "6cde268b-336c-44f8-85de-6c937f6aa900",
   "metadata": {
    "tags": []
   },
   "source": [
    "# Algorithm for sorting a list alphabetically in ascending and descending order\n",
    ">Ascending order complexity O(N)\n",
    "input: array[j]\n",
    "initialize: n = len(array), i = 1, j = 0\n",
    "1. for i=1 to n\n",
    "2.    for j = 0 to n-1-i\n",
    "3.       if array[j] > array[j+1] then\n",
    "4.          temp = array[j]\n",
    "5.          array[j] = array[j+1]\n",
    "6.          temp = array[j]\n",
    "7.       end if\n",
    "8.    end for\n",
    "9. end for\n",
    "return temp"
   ]
  },
  {
   "cell_type": "markdown",
   "id": "0370279e-8a02-4f25-94e6-04a49448a304",
   "metadata": {},
   "source": [
    "# Code"
   ]
  },
  {
   "cell_type": "code",
   "execution_count": 2,
   "id": "d64f57df-c2e4-469e-9edf-1d4fd4016589",
   "metadata": {},
   "outputs": [
    {
     "name": "stdout",
     "output_type": "stream",
     "text": [
      "['bee', 'cat', 'dog', 'dolphin', 'elephant', 'fish', 'zebra']\n",
      "['zebra', 'fish', 'elephant', 'dolphin', 'dog', 'cat', 'bee']\n"
     ]
    }
   ],
   "source": [
    "animals = ['dog','cat','elephant', 'dolphin', 'zebra', 'bee', 'fish']\n",
    "for i in range(0,len(animals)):\n",
    "    for j in range(0,len(animals)):\n",
    "        if (animals[j] > animals[i]):\n",
    "            temp= animals[i]\n",
    "            animals[i]= animals[j]\n",
    "            animals[j]= temp\n",
    "    \n",
    "print(animals)\n",
    "\n",
    "for i in range(0,len(animals)):\n",
    "    for j in range(0,len(animals)):\n",
    "        if (animals[j] < animals[i]):\n",
    "            temp= animals[i]\n",
    "            animals[i]= animals[j]\n",
    "            animals[j]= temp\n",
    "    \n",
    "print(animals)"
   ]
  },
  {
   "cell_type": "markdown",
   "id": "5b23e17c-908c-4bea-99f3-e5f70a3c38d2",
   "metadata": {},
   "source": [
    "### Using a function"
   ]
  },
  {
   "cell_type": "code",
   "execution_count": 18,
   "id": "7cbc3213-fb2a-42c5-8faf-a83d0a0607a7",
   "metadata": {},
   "outputs": [
    {
     "name": "stdin",
     "output_type": "stream",
     "text": [
      " 2\n"
     ]
    },
    {
     "data": {
      "text/plain": [
       "4"
      ]
     },
     "execution_count": 18,
     "metadata": {},
     "output_type": "execute_result"
    }
   ],
   "source": [
    "n = int(input())\n",
    "def func(n):\n",
    "    if (n==0): return 1\n",
    "    if (n==1): return 2\n",
    "    return func(n-1) + func(n-1)\n",
    "func(n)"
   ]
  },
  {
   "cell_type": "code",
   "execution_count": null,
   "id": "a1c7a286-f2aa-4871-a37e-1b5dd0a19279",
   "metadata": {},
   "outputs": [],
   "source": []
  }
 ],
 "metadata": {
  "kernelspec": {
   "display_name": "Python 3 (ipykernel)",
   "language": "python",
   "name": "python3"
  },
  "language_info": {
   "codemirror_mode": {
    "name": "ipython",
    "version": 3
   },
   "file_extension": ".py",
   "mimetype": "text/x-python",
   "name": "python",
   "nbconvert_exporter": "python",
   "pygments_lexer": "ipython3",
   "version": "3.9.7"
  }
 },
 "nbformat": 4,
 "nbformat_minor": 5
}
